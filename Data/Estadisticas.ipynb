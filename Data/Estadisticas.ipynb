{
 "cells": [
  {
   "cell_type": "code",
   "execution_count": 344,
   "metadata": {
    "collapsed": true
   },
   "outputs": [
    {
     "data": {
      "text/plain": "   CODIGO_SINIESTRO       FECHA      HORA     GRAVEDAD        CLASE  \\\n0           4401423  01/01/2015  09:45:00  Con Heridos       Choque   \n1           4401425  01/01/2015  13:25:00   Solo Daños       Choque   \n2           4401430  01/01/2015  07:15:00  Con Heridos  Volcamiento   \n3           4401433  01/01/2015  20:30:00   Solo Daños       Choque   \n4           4401437  01/01/2015  12:50:00   Solo Daños       Choque   \n\n  CHOQUE_CON OBJETO_FIJO          DIRECCION  TOTAL_MUERTOS  TOTAL_HERIDOS  \\\n0   Vehiculo         NaN    CL 66A-KR 76 02              0              2   \n1   Vehiculo         NaN  CL 143A-KR 142 02              0              0   \n2        NaN         NaN  KR 19D-CL 62 S 02              0              1   \n3   Vehiculo         NaN      AK 7-CL 43 33              0              0   \n4   Vehiculo         NaN   DG 77A-AK 18D 02              0              0   \n\n        LOCALIDAD  DISENO_LUGAR  \n0        Engativá  Interseccion  \n1            Suba  Tramo de Via  \n2  Ciudad Bolívar  Tramo de Via  \n3       Chapinero  Tramo de Via  \n4  Ciudad Bolívar  Tramo de Via  ",
      "text/html": "<div>\n<style scoped>\n    .dataframe tbody tr th:only-of-type {\n        vertical-align: middle;\n    }\n\n    .dataframe tbody tr th {\n        vertical-align: top;\n    }\n\n    .dataframe thead th {\n        text-align: right;\n    }\n</style>\n<table border=\"1\" class=\"dataframe\">\n  <thead>\n    <tr style=\"text-align: right;\">\n      <th></th>\n      <th>CODIGO_SINIESTRO</th>\n      <th>FECHA</th>\n      <th>HORA</th>\n      <th>GRAVEDAD</th>\n      <th>CLASE</th>\n      <th>CHOQUE_CON</th>\n      <th>OBJETO_FIJO</th>\n      <th>DIRECCION</th>\n      <th>TOTAL_MUERTOS</th>\n      <th>TOTAL_HERIDOS</th>\n      <th>LOCALIDAD</th>\n      <th>DISENO_LUGAR</th>\n    </tr>\n  </thead>\n  <tbody>\n    <tr>\n      <th>0</th>\n      <td>4401423</td>\n      <td>01/01/2015</td>\n      <td>09:45:00</td>\n      <td>Con Heridos</td>\n      <td>Choque</td>\n      <td>Vehiculo</td>\n      <td>NaN</td>\n      <td>CL 66A-KR 76 02</td>\n      <td>0</td>\n      <td>2</td>\n      <td>Engativá</td>\n      <td>Interseccion</td>\n    </tr>\n    <tr>\n      <th>1</th>\n      <td>4401425</td>\n      <td>01/01/2015</td>\n      <td>13:25:00</td>\n      <td>Solo Daños</td>\n      <td>Choque</td>\n      <td>Vehiculo</td>\n      <td>NaN</td>\n      <td>CL 143A-KR 142 02</td>\n      <td>0</td>\n      <td>0</td>\n      <td>Suba</td>\n      <td>Tramo de Via</td>\n    </tr>\n    <tr>\n      <th>2</th>\n      <td>4401430</td>\n      <td>01/01/2015</td>\n      <td>07:15:00</td>\n      <td>Con Heridos</td>\n      <td>Volcamiento</td>\n      <td>NaN</td>\n      <td>NaN</td>\n      <td>KR 19D-CL 62 S 02</td>\n      <td>0</td>\n      <td>1</td>\n      <td>Ciudad Bolívar</td>\n      <td>Tramo de Via</td>\n    </tr>\n    <tr>\n      <th>3</th>\n      <td>4401433</td>\n      <td>01/01/2015</td>\n      <td>20:30:00</td>\n      <td>Solo Daños</td>\n      <td>Choque</td>\n      <td>Vehiculo</td>\n      <td>NaN</td>\n      <td>AK 7-CL 43 33</td>\n      <td>0</td>\n      <td>0</td>\n      <td>Chapinero</td>\n      <td>Tramo de Via</td>\n    </tr>\n    <tr>\n      <th>4</th>\n      <td>4401437</td>\n      <td>01/01/2015</td>\n      <td>12:50:00</td>\n      <td>Solo Daños</td>\n      <td>Choque</td>\n      <td>Vehiculo</td>\n      <td>NaN</td>\n      <td>DG 77A-AK 18D 02</td>\n      <td>0</td>\n      <td>0</td>\n      <td>Ciudad Bolívar</td>\n      <td>Tramo de Via</td>\n    </tr>\n  </tbody>\n</table>\n</div>"
     },
     "execution_count": 344,
     "metadata": {},
     "output_type": "execute_result"
    }
   ],
   "source": [
    "import pandas as pd\n",
    "datos_siniestros = pd.read_excel(\"2015_2019_siniestralidad_vial.xlsx\", sheet_name=\"SINIESTROS\")\n",
    "datos_siniestros.head()"
   ]
  },
  {
   "cell_type": "code",
   "execution_count": 345,
   "outputs": [
    {
     "data": {
      "text/plain": "    CODIGO_SINIESTRO       FECHA      HORA     GRAVEDAD              CLASE  \\\n50           4401419  02/01/2015  13:00:00  Con Heridos  Caida de ocupante   \n10           4401420  01/01/2015  13:00:00   Solo Daños             Choque   \n42           4401421  02/01/2015  11:15:00  Con Heridos          Atropello   \n43           4401422  02/01/2015  21:30:00  Con Heridos             Choque   \n0            4401423  01/01/2015  09:45:00  Con Heridos             Choque   \n\n   CHOQUE_CON OBJETO_FIJO                           DIRECCION  TOTAL_MUERTOS  \\\n50        NaN         NaN         AV AVENIDA BOYACA-CL 49A 76              0   \n10   Vehiculo         NaN                    KR 17A-CL 63B 02              0   \n42        NaN         NaN  AV AVENIDA CIUDAD DE CALI-CL 8A 13              0   \n43   Vehiculo         NaN                    KR 107-CL 79B 41              0   \n0    Vehiculo         NaN                     CL 66A-KR 76 02              0   \n\n    TOTAL_HERIDOS       LOCALIDAD  DISENO_LUGAR  \n50              1      Tunjuelito  Tramo de Via  \n10              0  Ciudad Bolívar  Tramo de Via  \n42              2         Kennedy  Tramo de Via  \n43              1        Engativá  Tramo de Via  \n0               2        Engativá  Interseccion  ",
      "text/html": "<div>\n<style scoped>\n    .dataframe tbody tr th:only-of-type {\n        vertical-align: middle;\n    }\n\n    .dataframe tbody tr th {\n        vertical-align: top;\n    }\n\n    .dataframe thead th {\n        text-align: right;\n    }\n</style>\n<table border=\"1\" class=\"dataframe\">\n  <thead>\n    <tr style=\"text-align: right;\">\n      <th></th>\n      <th>CODIGO_SINIESTRO</th>\n      <th>FECHA</th>\n      <th>HORA</th>\n      <th>GRAVEDAD</th>\n      <th>CLASE</th>\n      <th>CHOQUE_CON</th>\n      <th>OBJETO_FIJO</th>\n      <th>DIRECCION</th>\n      <th>TOTAL_MUERTOS</th>\n      <th>TOTAL_HERIDOS</th>\n      <th>LOCALIDAD</th>\n      <th>DISENO_LUGAR</th>\n    </tr>\n  </thead>\n  <tbody>\n    <tr>\n      <th>50</th>\n      <td>4401419</td>\n      <td>02/01/2015</td>\n      <td>13:00:00</td>\n      <td>Con Heridos</td>\n      <td>Caida de ocupante</td>\n      <td>NaN</td>\n      <td>NaN</td>\n      <td>AV AVENIDA BOYACA-CL 49A 76</td>\n      <td>0</td>\n      <td>1</td>\n      <td>Tunjuelito</td>\n      <td>Tramo de Via</td>\n    </tr>\n    <tr>\n      <th>10</th>\n      <td>4401420</td>\n      <td>01/01/2015</td>\n      <td>13:00:00</td>\n      <td>Solo Daños</td>\n      <td>Choque</td>\n      <td>Vehiculo</td>\n      <td>NaN</td>\n      <td>KR 17A-CL 63B 02</td>\n      <td>0</td>\n      <td>0</td>\n      <td>Ciudad Bolívar</td>\n      <td>Tramo de Via</td>\n    </tr>\n    <tr>\n      <th>42</th>\n      <td>4401421</td>\n      <td>02/01/2015</td>\n      <td>11:15:00</td>\n      <td>Con Heridos</td>\n      <td>Atropello</td>\n      <td>NaN</td>\n      <td>NaN</td>\n      <td>AV AVENIDA CIUDAD DE CALI-CL 8A 13</td>\n      <td>0</td>\n      <td>2</td>\n      <td>Kennedy</td>\n      <td>Tramo de Via</td>\n    </tr>\n    <tr>\n      <th>43</th>\n      <td>4401422</td>\n      <td>02/01/2015</td>\n      <td>21:30:00</td>\n      <td>Con Heridos</td>\n      <td>Choque</td>\n      <td>Vehiculo</td>\n      <td>NaN</td>\n      <td>KR 107-CL 79B 41</td>\n      <td>0</td>\n      <td>1</td>\n      <td>Engativá</td>\n      <td>Tramo de Via</td>\n    </tr>\n    <tr>\n      <th>0</th>\n      <td>4401423</td>\n      <td>01/01/2015</td>\n      <td>09:45:00</td>\n      <td>Con Heridos</td>\n      <td>Choque</td>\n      <td>Vehiculo</td>\n      <td>NaN</td>\n      <td>CL 66A-KR 76 02</td>\n      <td>0</td>\n      <td>2</td>\n      <td>Engativá</td>\n      <td>Interseccion</td>\n    </tr>\n  </tbody>\n</table>\n</div>"
     },
     "execution_count": 345,
     "metadata": {},
     "output_type": "execute_result"
    }
   ],
   "source": [
    "# organizar numericamente el codigo de siniestro\n",
    "siniestros = datos_siniestros.sort_values(\"CODIGO_SINIESTRO\")\n",
    "siniestros.head()"
   ],
   "metadata": {
    "collapsed": false,
    "pycharm": {
     "name": "#%%\n"
    }
   }
  },
  {
   "cell_type": "markdown",
   "source": [
    "Cantidad de registros de Accidentes en el xlsx"
   ],
   "metadata": {
    "collapsed": false
   }
  },
  {
   "cell_type": "code",
   "execution_count": 346,
   "outputs": [
    {
     "data": {
      "text/plain": "173443"
     },
     "execution_count": 346,
     "metadata": {},
     "output_type": "execute_result"
    }
   ],
   "source": [
    "len(siniestros.index)"
   ],
   "metadata": {
    "collapsed": false,
    "pycharm": {
     "name": "#%%\n"
    }
   }
  },
  {
   "cell_type": "markdown",
   "source": [
    "Accidentes por localidad"
   ],
   "metadata": {
    "collapsed": false,
    "pycharm": {
     "name": "#%% md\n"
    }
   }
  },
  {
   "cell_type": "code",
   "execution_count": 347,
   "outputs": [
    {
     "name": "stdout",
     "output_type": "stream",
     "text": [
      "Número de Localides 20\n",
      "1 Tunjuelito\n",
      "2 Ciudad Bolívar\n",
      "3 Kennedy\n",
      "4 Engativá\n",
      "5 Chapinero\n",
      "6 Suba\n",
      "7 Puente Aranda\n",
      "8 Bosa\n",
      "9 Fontibón\n",
      "10 Los Mártires\n",
      "11 Santa Fe\n",
      "12 San Cristóbal\n",
      "13 Usme\n",
      "14 La Candelaria\n",
      "15 Usaquén\n",
      "16 Teusaquillo\n",
      "17 Barrios Unidos\n",
      "18 Antonio Nariño\n",
      "19 Rafael Uribe Uribe\n",
      "20 Sumapaz\n"
     ]
    }
   ],
   "source": [
    "# Lista de las localides de Bogotá\n",
    "localides = siniestros[\"LOCALIDAD\"].unique()\n",
    "print(\"Número de Localides\", len(localides))\n",
    "for i in range(len(localides)):\n",
    "    print(i + 1, localides[i])"
   ],
   "metadata": {
    "collapsed": false,
    "pycharm": {
     "name": "#%%\n"
    }
   }
  },
  {
   "cell_type": "code",
   "execution_count": 348,
   "outputs": [],
   "source": [
    "# Agrupar Accidentes por Localidad\n",
    "localidades_accidentes = siniestros.groupby(by = \"LOCALIDAD\").size()\n",
    "localidades_accidentes = localidades_accidentes.to_frame()\n",
    "localidades_accidentes = localidades_accidentes.rename(columns = {0: \"Accidentes\"})\n",
    "localidades_accidentes = localidades_accidentes.reset_index()"
   ],
   "metadata": {
    "collapsed": false,
    "pycharm": {
     "name": "#%%\n"
    }
   }
  },
  {
   "cell_type": "code",
   "execution_count": 349,
   "outputs": [
    {
     "data": {
      "text/plain": "             LOCALIDAD  Accidentes\n0       Antonio Nariño        3431\n1       Barrios Unidos        9462\n2                 Bosa        8274\n3            Chapinero       10625\n4       Ciudad Bolívar        6798\n5             Engativá       17627\n6             Fontibón       13883\n7              Kennedy       19451\n8        La Candelaria         901\n9         Los Mártires        5902\n10       Puente Aranda       12083\n11  Rafael Uribe Uribe        4389\n12       San Cristóbal        4674\n13            Santa Fe        5043\n14                Suba       15696\n15             Sumapaz           5\n16         Teusaquillo        9359\n17          Tunjuelito        4701\n18             Usaquén       17710\n19                Usme        3429",
      "text/html": "<div>\n<style scoped>\n    .dataframe tbody tr th:only-of-type {\n        vertical-align: middle;\n    }\n\n    .dataframe tbody tr th {\n        vertical-align: top;\n    }\n\n    .dataframe thead th {\n        text-align: right;\n    }\n</style>\n<table border=\"1\" class=\"dataframe\">\n  <thead>\n    <tr style=\"text-align: right;\">\n      <th></th>\n      <th>LOCALIDAD</th>\n      <th>Accidentes</th>\n    </tr>\n  </thead>\n  <tbody>\n    <tr>\n      <th>0</th>\n      <td>Antonio Nariño</td>\n      <td>3431</td>\n    </tr>\n    <tr>\n      <th>1</th>\n      <td>Barrios Unidos</td>\n      <td>9462</td>\n    </tr>\n    <tr>\n      <th>2</th>\n      <td>Bosa</td>\n      <td>8274</td>\n    </tr>\n    <tr>\n      <th>3</th>\n      <td>Chapinero</td>\n      <td>10625</td>\n    </tr>\n    <tr>\n      <th>4</th>\n      <td>Ciudad Bolívar</td>\n      <td>6798</td>\n    </tr>\n    <tr>\n      <th>5</th>\n      <td>Engativá</td>\n      <td>17627</td>\n    </tr>\n    <tr>\n      <th>6</th>\n      <td>Fontibón</td>\n      <td>13883</td>\n    </tr>\n    <tr>\n      <th>7</th>\n      <td>Kennedy</td>\n      <td>19451</td>\n    </tr>\n    <tr>\n      <th>8</th>\n      <td>La Candelaria</td>\n      <td>901</td>\n    </tr>\n    <tr>\n      <th>9</th>\n      <td>Los Mártires</td>\n      <td>5902</td>\n    </tr>\n    <tr>\n      <th>10</th>\n      <td>Puente Aranda</td>\n      <td>12083</td>\n    </tr>\n    <tr>\n      <th>11</th>\n      <td>Rafael Uribe Uribe</td>\n      <td>4389</td>\n    </tr>\n    <tr>\n      <th>12</th>\n      <td>San Cristóbal</td>\n      <td>4674</td>\n    </tr>\n    <tr>\n      <th>13</th>\n      <td>Santa Fe</td>\n      <td>5043</td>\n    </tr>\n    <tr>\n      <th>14</th>\n      <td>Suba</td>\n      <td>15696</td>\n    </tr>\n    <tr>\n      <th>15</th>\n      <td>Sumapaz</td>\n      <td>5</td>\n    </tr>\n    <tr>\n      <th>16</th>\n      <td>Teusaquillo</td>\n      <td>9359</td>\n    </tr>\n    <tr>\n      <th>17</th>\n      <td>Tunjuelito</td>\n      <td>4701</td>\n    </tr>\n    <tr>\n      <th>18</th>\n      <td>Usaquén</td>\n      <td>17710</td>\n    </tr>\n    <tr>\n      <th>19</th>\n      <td>Usme</td>\n      <td>3429</td>\n    </tr>\n  </tbody>\n</table>\n</div>"
     },
     "execution_count": 349,
     "metadata": {},
     "output_type": "execute_result"
    }
   ],
   "source": [
    "localidades_accidentes.columns\n",
    "localidades_accidentes"
   ],
   "metadata": {
    "collapsed": false,
    "pycharm": {
     "name": "#%%\n"
    }
   }
  },
  {
   "cell_type": "markdown",
   "source": [
    "Total de Accidentes\n"
   ],
   "metadata": {
    "collapsed": false,
    "pycharm": {
     "name": "#%% md\n"
    }
   }
  },
  {
   "cell_type": "code",
   "execution_count": 350,
   "outputs": [
    {
     "name": "stdout",
     "output_type": "stream",
     "text": [
      "Total accidentes\n"
     ]
    },
    {
     "data": {
      "text/plain": "173443"
     },
     "execution_count": 350,
     "metadata": {},
     "output_type": "execute_result"
    }
   ],
   "source": [
    "# Corroborar total de los datos\n",
    "print(\"Total accidentes\")\n",
    "localidades_accidentes[\"Accidentes\"].sum()\n"
   ],
   "metadata": {
    "collapsed": false,
    "pycharm": {
     "name": "#%%\n"
    }
   }
  },
  {
   "cell_type": "markdown",
   "source": [
    "Coordenadas de las localidades"
   ],
   "metadata": {
    "collapsed": false
   }
  },
  {
   "cell_type": "code",
   "execution_count": 351,
   "outputs": [],
   "source": [
    "import geopandas as gpd\n",
    "import matplotlib.pyplot as plt\n",
    "from geopandas import GeoDataFrame"
   ],
   "metadata": {
    "collapsed": false,
    "pycharm": {
     "name": "#%%\n"
    }
   }
  },
  {
   "cell_type": "code",
   "execution_count": 352,
   "outputs": [],
   "source": [
    "# se guardan las coordenadas de las localidades\n",
    "coordenadas_localidad = \"poligonos-localidades.geojson\"\n",
    "map_localidad = gpd.read_file(coordenadas_localidad)\n"
   ],
   "metadata": {
    "collapsed": false,
    "pycharm": {
     "name": "#%%\n"
    }
   }
  },
  {
   "cell_type": "code",
   "execution_count": 353,
   "outputs": [
    {
     "data": {
      "text/plain": "    index         LOCALIDADES  \\\n0      12      ANTONIO NARIÑO   \n1       7      BARRIOS UNIDOS   \n2      18                BOSA   \n3      10          CANDELARIA   \n4      11           CHAPINERO   \n5       0      CIUDAD BOLIVAR   \n6       9            ENGATIVA   \n7       8            FONTIBON   \n8       3             KENNEDY   \n9       5        LOS MARTIRES   \n10     19       PUENTE ARANDA   \n11      2  RAFAEL URIBE URIBE   \n12     15       SAN CRISTOBAL   \n13      6            SANTA FE   \n14      1                SUBA   \n15     14             SUMAPAZ   \n16     13         TEUSAQUILLO   \n17     17          TUNJUELITO   \n18     16             USAQUEN   \n19      4                USME   \n\n                                             geometry  \n0   MULTIPOLYGON (((-74.13075 4.59335, -74.13075 4...  \n1   MULTIPOLYGON (((-74.05725 4.68684, -74.05725 4...  \n2   MULTIPOLYGON (((-74.18567 4.64705, -74.18568 4...  \n3   MULTIPOLYGON (((-74.06621 4.60317, -74.06621 4...  \n4   MULTIPOLYGON (((-74.01089 4.66358, -74.01090 4...  \n5   MULTIPOLYGON (((-74.18135 4.58892, -74.18092 4...  \n6   MULTIPOLYGON (((-74.15547 4.71798, -74.15547 4...  \n7   MULTIPOLYGON (((-74.10342 4.65351, -74.11768 4...  \n8   MULTIPOLYGON (((-74.11830 4.63741, -74.11854 4...  \n9   MULTIPOLYGON (((-74.07283 4.61542, -74.07296 4...  \n10  MULTIPOLYGON (((-74.11830 4.63741, -74.11845 4...  \n11  MULTIPOLYGON (((-74.12803 4.59254, -74.12829 4...  \n12  MULTIPOLYGON (((-74.02900 4.55830, -74.02892 4...  \n13  MULTIPOLYGON (((-73.99446 4.61425, -73.99453 4...  \n14  MULTIPOLYGON (((-74.03450 4.82547, -74.03489 4...  \n15  MULTIPOLYGON (((-74.20584 4.26966, -74.20567 4...  \n16  MULTIPOLYGON (((-74.09372 4.66607, -74.10342 4...  \n17  MULTIPOLYGON (((-74.13777 4.59489, -74.14043 4...  \n18  MULTIPOLYGON (((-74.01089 4.66358, -74.01077 4...  \n19  MULTIPOLYGON (((-74.05597 4.50832, -74.05599 4...  ",
      "text/html": "<div>\n<style scoped>\n    .dataframe tbody tr th:only-of-type {\n        vertical-align: middle;\n    }\n\n    .dataframe tbody tr th {\n        vertical-align: top;\n    }\n\n    .dataframe thead th {\n        text-align: right;\n    }\n</style>\n<table border=\"1\" class=\"dataframe\">\n  <thead>\n    <tr style=\"text-align: right;\">\n      <th></th>\n      <th>index</th>\n      <th>LOCALIDADES</th>\n      <th>geometry</th>\n    </tr>\n  </thead>\n  <tbody>\n    <tr>\n      <th>0</th>\n      <td>12</td>\n      <td>ANTONIO NARIÑO</td>\n      <td>MULTIPOLYGON (((-74.13075 4.59335, -74.13075 4...</td>\n    </tr>\n    <tr>\n      <th>1</th>\n      <td>7</td>\n      <td>BARRIOS UNIDOS</td>\n      <td>MULTIPOLYGON (((-74.05725 4.68684, -74.05725 4...</td>\n    </tr>\n    <tr>\n      <th>2</th>\n      <td>18</td>\n      <td>BOSA</td>\n      <td>MULTIPOLYGON (((-74.18567 4.64705, -74.18568 4...</td>\n    </tr>\n    <tr>\n      <th>3</th>\n      <td>10</td>\n      <td>CANDELARIA</td>\n      <td>MULTIPOLYGON (((-74.06621 4.60317, -74.06621 4...</td>\n    </tr>\n    <tr>\n      <th>4</th>\n      <td>11</td>\n      <td>CHAPINERO</td>\n      <td>MULTIPOLYGON (((-74.01089 4.66358, -74.01090 4...</td>\n    </tr>\n    <tr>\n      <th>5</th>\n      <td>0</td>\n      <td>CIUDAD BOLIVAR</td>\n      <td>MULTIPOLYGON (((-74.18135 4.58892, -74.18092 4...</td>\n    </tr>\n    <tr>\n      <th>6</th>\n      <td>9</td>\n      <td>ENGATIVA</td>\n      <td>MULTIPOLYGON (((-74.15547 4.71798, -74.15547 4...</td>\n    </tr>\n    <tr>\n      <th>7</th>\n      <td>8</td>\n      <td>FONTIBON</td>\n      <td>MULTIPOLYGON (((-74.10342 4.65351, -74.11768 4...</td>\n    </tr>\n    <tr>\n      <th>8</th>\n      <td>3</td>\n      <td>KENNEDY</td>\n      <td>MULTIPOLYGON (((-74.11830 4.63741, -74.11854 4...</td>\n    </tr>\n    <tr>\n      <th>9</th>\n      <td>5</td>\n      <td>LOS MARTIRES</td>\n      <td>MULTIPOLYGON (((-74.07283 4.61542, -74.07296 4...</td>\n    </tr>\n    <tr>\n      <th>10</th>\n      <td>19</td>\n      <td>PUENTE ARANDA</td>\n      <td>MULTIPOLYGON (((-74.11830 4.63741, -74.11845 4...</td>\n    </tr>\n    <tr>\n      <th>11</th>\n      <td>2</td>\n      <td>RAFAEL URIBE URIBE</td>\n      <td>MULTIPOLYGON (((-74.12803 4.59254, -74.12829 4...</td>\n    </tr>\n    <tr>\n      <th>12</th>\n      <td>15</td>\n      <td>SAN CRISTOBAL</td>\n      <td>MULTIPOLYGON (((-74.02900 4.55830, -74.02892 4...</td>\n    </tr>\n    <tr>\n      <th>13</th>\n      <td>6</td>\n      <td>SANTA FE</td>\n      <td>MULTIPOLYGON (((-73.99446 4.61425, -73.99453 4...</td>\n    </tr>\n    <tr>\n      <th>14</th>\n      <td>1</td>\n      <td>SUBA</td>\n      <td>MULTIPOLYGON (((-74.03450 4.82547, -74.03489 4...</td>\n    </tr>\n    <tr>\n      <th>15</th>\n      <td>14</td>\n      <td>SUMAPAZ</td>\n      <td>MULTIPOLYGON (((-74.20584 4.26966, -74.20567 4...</td>\n    </tr>\n    <tr>\n      <th>16</th>\n      <td>13</td>\n      <td>TEUSAQUILLO</td>\n      <td>MULTIPOLYGON (((-74.09372 4.66607, -74.10342 4...</td>\n    </tr>\n    <tr>\n      <th>17</th>\n      <td>17</td>\n      <td>TUNJUELITO</td>\n      <td>MULTIPOLYGON (((-74.13777 4.59489, -74.14043 4...</td>\n    </tr>\n    <tr>\n      <th>18</th>\n      <td>16</td>\n      <td>USAQUEN</td>\n      <td>MULTIPOLYGON (((-74.01089 4.66358, -74.01077 4...</td>\n    </tr>\n    <tr>\n      <th>19</th>\n      <td>4</td>\n      <td>USME</td>\n      <td>MULTIPOLYGON (((-74.05597 4.50832, -74.05599 4...</td>\n    </tr>\n  </tbody>\n</table>\n</div>"
     },
     "execution_count": 353,
     "metadata": {},
     "output_type": "execute_result"
    }
   ],
   "source": [
    "# se uniran las coordenadas en formato geojson al dataframe de accidentes por localidad\n",
    "# se extra el nombre de la localidad y sus coordenadas del dataframe\n",
    "columnas_map =  [\"Nombre de la localidad\",\"geometry\"]\n",
    "map_localidad = map_localidad[columnas_map]\n",
    "map_localidad = map_localidad.sort_values(\"Nombre de la localidad\")\n",
    "map_localidad = map_localidad.reset_index()\n",
    "map_localidad = map_localidad.rename(columns = {\"Nombre de la localidad\" : \"LOCALIDADES\"})\n",
    "map_localidad"
   ],
   "metadata": {
    "collapsed": false,
    "pycharm": {
     "name": "#%%\n"
    }
   }
  },
  {
   "cell_type": "code",
   "execution_count": 357,
   "outputs": [
    {
     "data": {
      "text/plain": "             LOCALIDAD  Accidentes  \\\n0       Antonio Nariño        3431   \n1       Barrios Unidos        9462   \n2                 Bosa        8274   \n3            Chapinero       10625   \n4       Ciudad Bolívar        6798   \n5             Engativá       17627   \n6             Fontibón       13883   \n7              Kennedy       19451   \n8        La Candelaria         901   \n9         Los Mártires        5902   \n10       Puente Aranda       12083   \n11  Rafael Uribe Uribe        4389   \n12       San Cristóbal        4674   \n13            Santa Fe        5043   \n14                Suba       15696   \n15             Sumapaz           5   \n16         Teusaquillo        9359   \n17          Tunjuelito        4701   \n18             Usaquén       17710   \n19                Usme        3429   \n\n                                             geometry  \n0   MULTIPOLYGON (((-74.13075 4.59335, -74.13075 4...  \n1   MULTIPOLYGON (((-74.05725 4.68684, -74.05725 4...  \n2   MULTIPOLYGON (((-74.18567 4.64705, -74.18568 4...  \n3   MULTIPOLYGON (((-74.06621 4.60317, -74.06621 4...  \n4   MULTIPOLYGON (((-74.01089 4.66358, -74.01090 4...  \n5   MULTIPOLYGON (((-74.18135 4.58892, -74.18092 4...  \n6   MULTIPOLYGON (((-74.15547 4.71798, -74.15547 4...  \n7   MULTIPOLYGON (((-74.10342 4.65351, -74.11768 4...  \n8   MULTIPOLYGON (((-74.11830 4.63741, -74.11854 4...  \n9   MULTIPOLYGON (((-74.07283 4.61542, -74.07296 4...  \n10  MULTIPOLYGON (((-74.11830 4.63741, -74.11845 4...  \n11  MULTIPOLYGON (((-74.12803 4.59254, -74.12829 4...  \n12  MULTIPOLYGON (((-74.02900 4.55830, -74.02892 4...  \n13  MULTIPOLYGON (((-73.99446 4.61425, -73.99453 4...  \n14  MULTIPOLYGON (((-74.03450 4.82547, -74.03489 4...  \n15  MULTIPOLYGON (((-74.20584 4.26966, -74.20567 4...  \n16  MULTIPOLYGON (((-74.09372 4.66607, -74.10342 4...  \n17  MULTIPOLYGON (((-74.13777 4.59489, -74.14043 4...  \n18  MULTIPOLYGON (((-74.01089 4.66358, -74.01077 4...  \n19  MULTIPOLYGON (((-74.05597 4.50832, -74.05599 4...  ",
      "text/html": "<div>\n<style scoped>\n    .dataframe tbody tr th:only-of-type {\n        vertical-align: middle;\n    }\n\n    .dataframe tbody tr th {\n        vertical-align: top;\n    }\n\n    .dataframe thead th {\n        text-align: right;\n    }\n</style>\n<table border=\"1\" class=\"dataframe\">\n  <thead>\n    <tr style=\"text-align: right;\">\n      <th></th>\n      <th>LOCALIDAD</th>\n      <th>Accidentes</th>\n      <th>geometry</th>\n    </tr>\n  </thead>\n  <tbody>\n    <tr>\n      <th>0</th>\n      <td>Antonio Nariño</td>\n      <td>3431</td>\n      <td>MULTIPOLYGON (((-74.13075 4.59335, -74.13075 4...</td>\n    </tr>\n    <tr>\n      <th>1</th>\n      <td>Barrios Unidos</td>\n      <td>9462</td>\n      <td>MULTIPOLYGON (((-74.05725 4.68684, -74.05725 4...</td>\n    </tr>\n    <tr>\n      <th>2</th>\n      <td>Bosa</td>\n      <td>8274</td>\n      <td>MULTIPOLYGON (((-74.18567 4.64705, -74.18568 4...</td>\n    </tr>\n    <tr>\n      <th>3</th>\n      <td>Chapinero</td>\n      <td>10625</td>\n      <td>MULTIPOLYGON (((-74.06621 4.60317, -74.06621 4...</td>\n    </tr>\n    <tr>\n      <th>4</th>\n      <td>Ciudad Bolívar</td>\n      <td>6798</td>\n      <td>MULTIPOLYGON (((-74.01089 4.66358, -74.01090 4...</td>\n    </tr>\n    <tr>\n      <th>5</th>\n      <td>Engativá</td>\n      <td>17627</td>\n      <td>MULTIPOLYGON (((-74.18135 4.58892, -74.18092 4...</td>\n    </tr>\n    <tr>\n      <th>6</th>\n      <td>Fontibón</td>\n      <td>13883</td>\n      <td>MULTIPOLYGON (((-74.15547 4.71798, -74.15547 4...</td>\n    </tr>\n    <tr>\n      <th>7</th>\n      <td>Kennedy</td>\n      <td>19451</td>\n      <td>MULTIPOLYGON (((-74.10342 4.65351, -74.11768 4...</td>\n    </tr>\n    <tr>\n      <th>8</th>\n      <td>La Candelaria</td>\n      <td>901</td>\n      <td>MULTIPOLYGON (((-74.11830 4.63741, -74.11854 4...</td>\n    </tr>\n    <tr>\n      <th>9</th>\n      <td>Los Mártires</td>\n      <td>5902</td>\n      <td>MULTIPOLYGON (((-74.07283 4.61542, -74.07296 4...</td>\n    </tr>\n    <tr>\n      <th>10</th>\n      <td>Puente Aranda</td>\n      <td>12083</td>\n      <td>MULTIPOLYGON (((-74.11830 4.63741, -74.11845 4...</td>\n    </tr>\n    <tr>\n      <th>11</th>\n      <td>Rafael Uribe Uribe</td>\n      <td>4389</td>\n      <td>MULTIPOLYGON (((-74.12803 4.59254, -74.12829 4...</td>\n    </tr>\n    <tr>\n      <th>12</th>\n      <td>San Cristóbal</td>\n      <td>4674</td>\n      <td>MULTIPOLYGON (((-74.02900 4.55830, -74.02892 4...</td>\n    </tr>\n    <tr>\n      <th>13</th>\n      <td>Santa Fe</td>\n      <td>5043</td>\n      <td>MULTIPOLYGON (((-73.99446 4.61425, -73.99453 4...</td>\n    </tr>\n    <tr>\n      <th>14</th>\n      <td>Suba</td>\n      <td>15696</td>\n      <td>MULTIPOLYGON (((-74.03450 4.82547, -74.03489 4...</td>\n    </tr>\n    <tr>\n      <th>15</th>\n      <td>Sumapaz</td>\n      <td>5</td>\n      <td>MULTIPOLYGON (((-74.20584 4.26966, -74.20567 4...</td>\n    </tr>\n    <tr>\n      <th>16</th>\n      <td>Teusaquillo</td>\n      <td>9359</td>\n      <td>MULTIPOLYGON (((-74.09372 4.66607, -74.10342 4...</td>\n    </tr>\n    <tr>\n      <th>17</th>\n      <td>Tunjuelito</td>\n      <td>4701</td>\n      <td>MULTIPOLYGON (((-74.13777 4.59489, -74.14043 4...</td>\n    </tr>\n    <tr>\n      <th>18</th>\n      <td>Usaquén</td>\n      <td>17710</td>\n      <td>MULTIPOLYGON (((-74.01089 4.66358, -74.01077 4...</td>\n    </tr>\n    <tr>\n      <th>19</th>\n      <td>Usme</td>\n      <td>3429</td>\n      <td>MULTIPOLYGON (((-74.05597 4.50832, -74.05599 4...</td>\n    </tr>\n  </tbody>\n</table>\n</div>"
     },
     "execution_count": 357,
     "metadata": {},
     "output_type": "execute_result"
    }
   ],
   "source": [
    "localidad_map = pd.concat([localidades_accidentes,map_localidad], axis = 1)\n",
    "localidad_map.drop([\"LOCALIDADES\",\"index\"],axis = 'columns', inplace=True)\n",
    "localidad_map = GeoDataFrame(localidad_map)\n",
    "localidad_map.columns\n",
    "localidad_map"
   ],
   "metadata": {
    "collapsed": false,
    "pycharm": {
     "name": "#%%\n"
    }
   }
  },
  {
   "cell_type": "code",
   "execution_count": 355,
   "outputs": [
    {
     "data": {
      "text/plain": "geopandas.geodataframe.GeoDataFrame"
     },
     "execution_count": 355,
     "metadata": {},
     "output_type": "execute_result"
    }
   ],
   "source": [
    "type(localidad_map)"
   ],
   "metadata": {
    "collapsed": false,
    "pycharm": {
     "name": "#%%\n"
    }
   }
  },
  {
   "cell_type": "code",
   "execution_count": 359,
   "outputs": [
    {
     "data": {
      "text/plain": "<AxesSubplot:>"
     },
     "execution_count": 359,
     "metadata": {},
     "output_type": "execute_result"
    },
    {
     "data": {
      "text/plain": "<Figure size 432x288 with 2 Axes>",
      "image/png": "[encoded data removed]"
     },
     "metadata": {
      "needs_background": "light"
     },
     "output_type": "display_data"
    }
   ],
   "source": [
    "# Control del tamaño de la figura del mapa\n",
    "\n",
    "# Generar y cargar el mapa\n",
    "localidad_map.plot(column='Accidentes', cmap='plasma',\n",
    "              legend=True, zorder=5)\n",
    "\n"
   ],
   "metadata": {
    "collapsed": false,
    "pycharm": {
     "name": "#%% Graficacion\n"
    }
   }
  }
 ],
 "metadata": {
  "kernelspec": {
   "display_name": "Python 3",
   "language": "python",
   "name": "python3"
  },
  "language_info": {
   "codemirror_mode": {
    "name": "ipython",
    "version": 2
   },
   "file_extension": ".py",
   "mimetype": "text/x-python",
   "name": "python",
   "nbconvert_exporter": "python",
   "pygments_lexer": "ipython2",
   "version": "2.7.6"
  }
 },
 "nbformat": 4,
 "nbformat_minor": 0
}