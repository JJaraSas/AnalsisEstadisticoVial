{
 "cells": [
  {
   "cell_type": "code",
   "execution_count": 19,
   "metadata": {
    "collapsed": true
   },
   "outputs": [],
   "source": [
    "import pandas as pd\n",
    "import numpy as np\n",
    "from sklearn import linear_model\n",
    "from sklearn import model_selection\n",
    "from sklearn.metrics import classification_report\n",
    "from sklearn.metrics import confusion_matrix\n",
    "from sklearn.metrics import accuracy_score\n",
    "import matplotlib.pyplot as plt\n",
    "import seaborn as sb"
   ]
  },
  {
   "cell_type": "code",
   "execution_count": 20,
   "outputs": [
    {
     "data": {
      "text/plain": "   CODIGO_SINIESTRO       FECHA      HORA     GRAVEDAD        CLASE  \\\n0           4401423  01/01/2015  09:45:00  Con Heridos       Choque   \n1           4401425  01/01/2015  13:25:00   Solo Daños       Choque   \n2           4401430  01/01/2015  07:15:00  Con Heridos  Volcamiento   \n3           4401433  01/01/2015  20:30:00   Solo Daños       Choque   \n4           4401437  01/01/2015  12:50:00   Solo Daños       Choque   \n\n  CHOQUE_CON OBJETO_FIJO          DIRECCION  TOTAL_MUERTOS  TOTAL_HERIDOS  \\\n0   Vehiculo         NaN    CL 66A-KR 76 02              0              2   \n1   Vehiculo         NaN  CL 143A-KR 142 02              0              0   \n2        NaN         NaN  KR 19D-CL 62 S 02              0              1   \n3   Vehiculo         NaN      AK 7-CL 43 33              0              0   \n4   Vehiculo         NaN   DG 77A-AK 18D 02              0              0   \n\n        LOCALIDAD  DISENO_LUGAR  \n0        Engativá  Interseccion  \n1            Suba  Tramo de Via  \n2  Ciudad Bolívar  Tramo de Via  \n3       Chapinero  Tramo de Via  \n4  Ciudad Bolívar  Tramo de Via  ",
      "text/html": "<div>\n<style scoped>\n    .dataframe tbody tr th:only-of-type {\n        vertical-align: middle;\n    }\n\n    .dataframe tbody tr th {\n        vertical-align: top;\n    }\n\n    .dataframe thead th {\n        text-align: right;\n    }\n</style>\n<table border=\"1\" class=\"dataframe\">\n  <thead>\n    <tr style=\"text-align: right;\">\n      <th></th>\n      <th>CODIGO_SINIESTRO</th>\n      <th>FECHA</th>\n      <th>HORA</th>\n      <th>GRAVEDAD</th>\n      <th>CLASE</th>\n      <th>CHOQUE_CON</th>\n      <th>OBJETO_FIJO</th>\n      <th>DIRECCION</th>\n      <th>TOTAL_MUERTOS</th>\n      <th>TOTAL_HERIDOS</th>\n      <th>LOCALIDAD</th>\n      <th>DISENO_LUGAR</th>\n    </tr>\n  </thead>\n  <tbody>\n    <tr>\n      <th>0</th>\n      <td>4401423</td>\n      <td>01/01/2015</td>\n      <td>09:45:00</td>\n      <td>Con Heridos</td>\n      <td>Choque</td>\n      <td>Vehiculo</td>\n      <td>NaN</td>\n      <td>CL 66A-KR 76 02</td>\n      <td>0</td>\n      <td>2</td>\n      <td>Engativá</td>\n      <td>Interseccion</td>\n    </tr>\n    <tr>\n      <th>1</th>\n      <td>4401425</td>\n      <td>01/01/2015</td>\n      <td>13:25:00</td>\n      <td>Solo Daños</td>\n      <td>Choque</td>\n      <td>Vehiculo</td>\n      <td>NaN</td>\n      <td>CL 143A-KR 142 02</td>\n      <td>0</td>\n      <td>0</td>\n      <td>Suba</td>\n      <td>Tramo de Via</td>\n    </tr>\n    <tr>\n      <th>2</th>\n      <td>4401430</td>\n      <td>01/01/2015</td>\n      <td>07:15:00</td>\n      <td>Con Heridos</td>\n      <td>Volcamiento</td>\n      <td>NaN</td>\n      <td>NaN</td>\n      <td>KR 19D-CL 62 S 02</td>\n      <td>0</td>\n      <td>1</td>\n      <td>Ciudad Bolívar</td>\n      <td>Tramo de Via</td>\n    </tr>\n    <tr>\n      <th>3</th>\n      <td>4401433</td>\n      <td>01/01/2015</td>\n      <td>20:30:00</td>\n      <td>Solo Daños</td>\n      <td>Choque</td>\n      <td>Vehiculo</td>\n      <td>NaN</td>\n      <td>AK 7-CL 43 33</td>\n      <td>0</td>\n      <td>0</td>\n      <td>Chapinero</td>\n      <td>Tramo de Via</td>\n    </tr>\n    <tr>\n      <th>4</th>\n      <td>4401437</td>\n      <td>01/01/2015</td>\n      <td>12:50:00</td>\n      <td>Solo Daños</td>\n      <td>Choque</td>\n      <td>Vehiculo</td>\n      <td>NaN</td>\n      <td>DG 77A-AK 18D 02</td>\n      <td>0</td>\n      <td>0</td>\n      <td>Ciudad Bolívar</td>\n      <td>Tramo de Via</td>\n    </tr>\n  </tbody>\n</table>\n</div>"
     },
     "execution_count": 20,
     "metadata": {},
     "output_type": "execute_result"
    }
   ],
   "source": [
    "# predecir la gravedad de un accidente\n",
    "#\n",
    "\n",
    "datos_siniestros = pd.read_excel(\"2015_2019_siniestralidad_vial.xlsx\", sheet_name=\"SINIESTROS\")\n",
    "datos_siniestros.head()\n",
    "\n",
    "\n"
   ],
   "metadata": {
    "collapsed": false,
    "pycharm": {
     "name": "#%%\n"
    }
   }
  },
  {
   "cell_type": "markdown",
   "source": [
    "Prediccion: Gravedad"
   ],
   "metadata": {
    "collapsed": false
   }
  },
  {
   "cell_type": "code",
   "execution_count": 27,
   "outputs": [],
   "source": [
    "# se recorren la columna Gravedad, al encontrar solo daños, no será de gravedad, en caso de tener heridos o muertos serlo si lo será\n",
    "datos_siniestros['GRAVEDAD'] = datos_siniestros['GRAVEDAD'].map({'Solo Daños': 0, 'Con Heridos': 1 , \"Con Muertos\": 1})"
   ],
   "metadata": {
    "collapsed": false,
    "pycharm": {
     "name": "#%%\n"
    }
   }
  },
  {
   "cell_type": "code",
   "execution_count": 28,
   "outputs": [
    {
     "data": {
      "text/plain": "0    1\n1    0\n2    1\n3    0\n4    0\nName: GRAVEDAD, dtype: int64"
     },
     "execution_count": 28,
     "metadata": {},
     "output_type": "execute_result"
    }
   ],
   "source": [
    "datos_siniestros[\"GRAVEDAD\"].head()"
   ],
   "metadata": {
    "collapsed": false,
    "pycharm": {
     "name": "#%%\n"
    }
   }
  }
 ],
 "metadata": {
  "kernelspec": {
   "display_name": "Python 3",
   "language": "python",
   "name": "python3"
  },
  "language_info": {
   "codemirror_mode": {
    "name": "ipython",
    "version": 2
   },
   "file_extension": ".py",
   "mimetype": "text/x-python",
   "name": "python",
   "nbconvert_exporter": "python",
   "pygments_lexer": "ipython2",
   "version": "2.7.6"
  }
 },
 "nbformat": 4,
 "nbformat_minor": 0
}