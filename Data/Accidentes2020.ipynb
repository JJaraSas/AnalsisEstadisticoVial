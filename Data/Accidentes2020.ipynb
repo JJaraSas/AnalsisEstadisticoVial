{
 "cells": [
  {
   "cell_type": "code",
   "execution_count": 1,
   "metadata": {
    "collapsed": true
   },
   "outputs": [],
   "source": [
    "import geopandas as gpd\n",
    "import matplotlib.pyplot as plt\n",
    "from geopandas import GeoDataFrame\n",
    "import basemap"
   ]
  },
  {
   "cell_type": "code",
   "execution_count": 6,
   "outputs": [
    {
     "data": {
      "text/plain": "   OBJECTID  FORMULARIO  CODIGO_ACCIDENTE       FECHA_OCURRENCIA_ACC  \\\n0    326421  A001132495          10511047  2020-02-13T00:00:00+00:00   \n1    326429  A001133093          10510968  2020-02-13T00:00:00+00:00   \n2    326431  A001133587          10510977  2020-02-13T00:00:00+00:00   \n3    326438  A001132704          10510979  2020-02-13T00:00:00+00:00   \n4    326441  A001131778          10510981  2020-02-13T00:00:00+00:00   \n\n   ANO_OCURRENCIA_ACC    GRAVEDAD CLASE_ACC     LOCALIDAD  \\\n0                2020  SOLO DANOS    CHOQUE   TEUSAQUILLO   \n1                2020  SOLO DANOS    CHOQUE       USAQUEN   \n2                2020  SOLO DANOS    CHOQUE   TEUSAQUILLO   \n3                2020  SOLO DANOS    CHOQUE  LOS MARTIRES   \n4                2020  SOLO DANOS    CHOQUE      FONTIBON   \n\n                    geometry  \n0  POINT (-74.07802 4.65482)  \n1  POINT (-74.05591 4.69388)  \n2  POINT (-74.07311 4.64881)  \n3  POINT (-74.09269 4.60237)  \n4  POINT (-74.11282 4.65190)  ",
      "text/html": "<div>\n<style scoped>\n    .dataframe tbody tr th:only-of-type {\n        vertical-align: middle;\n    }\n\n    .dataframe tbody tr th {\n        vertical-align: top;\n    }\n\n    .dataframe thead th {\n        text-align: right;\n    }\n</style>\n<table border=\"1\" class=\"dataframe\">\n  <thead>\n    <tr style=\"text-align: right;\">\n      <th></th>\n      <th>OBJECTID</th>\n      <th>FORMULARIO</th>\n      <th>CODIGO_ACCIDENTE</th>\n      <th>FECHA_OCURRENCIA_ACC</th>\n      <th>ANO_OCURRENCIA_ACC</th>\n      <th>GRAVEDAD</th>\n      <th>CLASE_ACC</th>\n      <th>LOCALIDAD</th>\n      <th>geometry</th>\n    </tr>\n  </thead>\n  <tbody>\n    <tr>\n      <th>0</th>\n      <td>326421</td>\n      <td>A001132495</td>\n      <td>10511047</td>\n      <td>2020-02-13T00:00:00+00:00</td>\n      <td>2020</td>\n      <td>SOLO DANOS</td>\n      <td>CHOQUE</td>\n      <td>TEUSAQUILLO</td>\n      <td>POINT (-74.07802 4.65482)</td>\n    </tr>\n    <tr>\n      <th>1</th>\n      <td>326429</td>\n      <td>A001133093</td>\n      <td>10510968</td>\n      <td>2020-02-13T00:00:00+00:00</td>\n      <td>2020</td>\n      <td>SOLO DANOS</td>\n      <td>CHOQUE</td>\n      <td>USAQUEN</td>\n      <td>POINT (-74.05591 4.69388)</td>\n    </tr>\n    <tr>\n      <th>2</th>\n      <td>326431</td>\n      <td>A001133587</td>\n      <td>10510977</td>\n      <td>2020-02-13T00:00:00+00:00</td>\n      <td>2020</td>\n      <td>SOLO DANOS</td>\n      <td>CHOQUE</td>\n      <td>TEUSAQUILLO</td>\n      <td>POINT (-74.07311 4.64881)</td>\n    </tr>\n    <tr>\n      <th>3</th>\n      <td>326438</td>\n      <td>A001132704</td>\n      <td>10510979</td>\n      <td>2020-02-13T00:00:00+00:00</td>\n      <td>2020</td>\n      <td>SOLO DANOS</td>\n      <td>CHOQUE</td>\n      <td>LOS MARTIRES</td>\n      <td>POINT (-74.09269 4.60237)</td>\n    </tr>\n    <tr>\n      <th>4</th>\n      <td>326441</td>\n      <td>A001131778</td>\n      <td>10510981</td>\n      <td>2020-02-13T00:00:00+00:00</td>\n      <td>2020</td>\n      <td>SOLO DANOS</td>\n      <td>CHOQUE</td>\n      <td>FONTIBON</td>\n      <td>POINT (-74.11282 4.65190)</td>\n    </tr>\n  </tbody>\n</table>\n</div>"
     },
     "execution_count": 6,
     "metadata": {},
     "output_type": "execute_result"
    }
   ],
   "source": [
    "accidentes2020 = \"Siniestros_Viales_2020_Bogota_D_C (1).geojson\"\n",
    "accidentes2020gjson = gpd.read_file(accidentes2020)\n",
    "accidentes2020gjson.head()"
   ],
   "metadata": {
    "collapsed": false,
    "pycharm": {
     "name": "#%%\n"
    }
   }
  },
  {
   "cell_type": "code",
   "execution_count": 10,
   "outputs": [
    {
     "data": {
      "text/plain": "<AxesSubplot:>"
     },
     "execution_count": 10,
     "metadata": {},
     "output_type": "execute_result"
    },
    {
     "data": {
      "text/plain": "<Figure size 432x288 with 1 Axes>",
      "image/png": "[encoded data removed]"
     },
     "metadata": {
      "needs_background": "light"
     },
     "output_type": "display_data"
    }
   ],
   "source": [
    "accidentes2020gjson.plot()\n"
   ],
   "metadata": {
    "collapsed": false,
    "pycharm": {
     "name": "#%%\n"
    }
   }
  },
  {
   "cell_type": "code",
   "execution_count": 11,
   "outputs": [
    {
     "ename": "NameError",
     "evalue": "name 'Basemap' is not defined",
     "output_type": "error",
     "traceback": [
      "\u001B[1;31m---------------------------------------------------------------------------\u001B[0m",
      "\u001B[1;31mNameError\u001B[0m                                 Traceback (most recent call last)",
      "\u001B[1;32m<ipython-input-11-f8401533f7c2>\u001B[0m in \u001B[0;36m<module>\u001B[1;34m\u001B[0m\n\u001B[0;32m      1\u001B[0m \u001B[0mfig\u001B[0m \u001B[1;33m=\u001B[0m \u001B[0mplt\u001B[0m\u001B[1;33m.\u001B[0m\u001B[0mfigure\u001B[0m\u001B[1;33m(\u001B[0m\u001B[0mfigsize\u001B[0m \u001B[1;33m=\u001B[0m \u001B[1;33m(\u001B[0m\u001B[1;36m8\u001B[0m\u001B[1;33m,\u001B[0m \u001B[1;36m8\u001B[0m\u001B[1;33m)\u001B[0m\u001B[1;33m)\u001B[0m\u001B[1;33m\u001B[0m\u001B[1;33m\u001B[0m\u001B[0m\n\u001B[1;32m----> 2\u001B[1;33m \u001B[0mm\u001B[0m \u001B[1;33m=\u001B[0m \u001B[0mBasemap\u001B[0m\u001B[1;33m(\u001B[0m\u001B[0mprojection\u001B[0m \u001B[1;33m=\u001B[0m \u001B[1;34m\"lcc\"\u001B[0m\u001B[1;33m,\u001B[0m \u001B[0mlat_0\u001B[0m \u001B[1;33m=\u001B[0m \u001B[1;36m40.4165\u001B[0m\u001B[1;33m,\u001B[0m \u001B[0mlon_0\u001B[0m \u001B[1;33m=\u001B[0m \u001B[1;33m-\u001B[0m\u001B[1;36m3\u001B[0m\u001B[1;33m,\u001B[0m \u001B[0mwidth\u001B[0m \u001B[1;33m=\u001B[0m \u001B[1;36m1.2e6\u001B[0m\u001B[1;33m,\u001B[0m \u001B[0mheight\u001B[0m \u001B[1;33m=\u001B[0m \u001B[1;36m1e6\u001B[0m\u001B[1;33m,\u001B[0m \u001B[0mresolution\u001B[0m \u001B[1;33m=\u001B[0m \u001B[1;34m\"l\"\u001B[0m\u001B[1;33m)\u001B[0m\u001B[1;33m\u001B[0m\u001B[1;33m\u001B[0m\u001B[0m\n\u001B[0m\u001B[0;32m      3\u001B[0m \u001B[0mm\u001B[0m\u001B[1;33m.\u001B[0m\u001B[0mshadedrelief\u001B[0m\u001B[1;33m(\u001B[0m\u001B[1;33m)\u001B[0m\u001B[1;33m;\u001B[0m\u001B[1;33m\u001B[0m\u001B[1;33m\u001B[0m\u001B[0m\n\u001B[0;32m      4\u001B[0m \u001B[0mx\u001B[0m\u001B[1;33m,\u001B[0m \u001B[0my\u001B[0m \u001B[1;33m=\u001B[0m \u001B[0mm\u001B[0m\u001B[1;33m(\u001B[0m\u001B[1;33m-\u001B[0m\u001B[1;36m3.70256\u001B[0m\u001B[1;33m,\u001B[0m \u001B[1;36m40.4165\u001B[0m\u001B[1;33m)\u001B[0m\u001B[1;33m\u001B[0m\u001B[1;33m\u001B[0m\u001B[0m\n\u001B[0;32m      5\u001B[0m \u001B[0mplt\u001B[0m\u001B[1;33m.\u001B[0m\u001B[0mplot\u001B[0m\u001B[1;33m(\u001B[0m\u001B[0mx\u001B[0m\u001B[1;33m,\u001B[0m \u001B[0my\u001B[0m\u001B[1;33m,\u001B[0m \u001B[1;34m\"*\"\u001B[0m\u001B[1;33m,\u001B[0m \u001B[0mmarkersize\u001B[0m \u001B[1;33m=\u001B[0m \u001B[1;36m10\u001B[0m\u001B[1;33m)\u001B[0m\u001B[1;33m;\u001B[0m\u001B[1;33m\u001B[0m\u001B[1;33m\u001B[0m\u001B[0m\n",
      "\u001B[1;31mNameError\u001B[0m: name 'Basemap' is not defined"
     ]
    },
    {
     "data": {
      "text/plain": "<Figure size 576x576 with 0 Axes>"
     },
     "metadata": {},
     "output_type": "display_data"
    }
   ],
   "source": [
    "fig = plt.figure(figsize = (8, 8))\n",
    "m = Basemap(projection = \"lcc\", lat_0 = 40.4165, lon_0 = -3, width = 1.2e6, height = 1e6, resolution = \"l\")\n",
    "m.shadedrelief();\n",
    "x, y = m(-3.70256, 40.4165)\n",
    "plt.plot(x, y, \"*\", markersize = 10);\n",
    "plt.text(x * 1.02, y * 1.02 , \"Madrid\", fontsize = 15);\n"
   ],
   "metadata": {
    "collapsed": false,
    "pycharm": {
     "name": "#%%\n"
    }
   }
  }
 ],
 "metadata": {
  "kernelspec": {
   "display_name": "Python 3",
   "language": "python",
   "name": "python3"
  },
  "language_info": {
   "codemirror_mode": {
    "name": "ipython",
    "version": 2
   },
   "file_extension": ".py",
   "mimetype": "text/x-python",
   "name": "python",
   "nbconvert_exporter": "python",
   "pygments_lexer": "ipython2",
   "version": "2.7.6"
  }
 },
 "nbformat": 4,
 "nbformat_minor": 0
}